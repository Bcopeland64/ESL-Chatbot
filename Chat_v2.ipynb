{
 "cells": [
  {
   "cell_type": "code",
   "execution_count": 4,
   "metadata": {},
   "outputs": [
    {
     "ename": "ImportError",
     "evalue": "cannot import name 'RetrievalChain' from 'langchain.chains' (/home/brandon/anaconda3/lib/python3.9/site-packages/langchain/chains/__init__.py)",
     "output_type": "error",
     "traceback": [
      "\u001b[0;31m---------------------------------------------------------------------------\u001b[0m",
      "\u001b[0;31mImportError\u001b[0m                               Traceback (most recent call last)",
      "Cell \u001b[0;32mIn[4], line 2\u001b[0m\n\u001b[1;32m      1\u001b[0m \u001b[38;5;28;01mimport\u001b[39;00m \u001b[38;5;21;01mpinecone\u001b[39;00m\n\u001b[0;32m----> 2\u001b[0m \u001b[38;5;28;01mfrom\u001b[39;00m \u001b[38;5;21;01mlangchain\u001b[39;00m\u001b[38;5;21;01m.\u001b[39;00m\u001b[38;5;21;01mchains\u001b[39;00m \u001b[38;5;28;01mimport\u001b[39;00m RetrievalChain\n\u001b[1;32m      3\u001b[0m \u001b[38;5;28;01mimport\u001b[39;00m \u001b[38;5;21;01mspacy\u001b[39;00m\n\u001b[1;32m      5\u001b[0m \u001b[38;5;66;03m# Initialize Pinecone client\u001b[39;00m\n",
      "\u001b[0;31mImportError\u001b[0m: cannot import name 'RetrievalChain' from 'langchain.chains' (/home/brandon/anaconda3/lib/python3.9/site-packages/langchain/chains/__init__.py)"
     ]
    }
   ],
   "source": [
    "import pinecone\n",
    "from langchain.chains import RetrievalChain\n",
    "import spacy\n",
    "\n",
    "# Initialize Pinecone client\n",
    "pinecone.init(api_key=\"8b63dbab-946a-48e0-9067-45960be8e326\")\n",
    "\n",
    "# Initialize Langchain RetrievalChain\n",
    "retrieval_chain = RetrievalChain(model=\"gpt-3.5-turbo\")\n",
    "\n",
    "# Load English language model\n",
    "nlp = spacy.load(\"en_core_web_sm\")\n"
   ]
  },
  {
   "cell_type": "code",
   "execution_count": 2,
   "metadata": {},
   "outputs": [],
   "source": [
    "# Define conversation handler\n",
    "def handle_conversation(user_input):\n",
    "    # Process user input\n",
    "    user_input_doc = nlp(user_input)\n",
    "    \n",
    "    # Perform semantic search using Pinecone\n",
    "    relevant_documents = semantic_search(user_input)\n",
    "    \n",
    "    # Generate response using Langchain\n",
    "    bot_response = generate_response(user_input)\n",
    "    \n",
    "    return bot_response, relevant_documents\n",
    "\n",
    "# Semantic search function using Pinecone\n",
    "def semantic_search(query):\n",
    "    # Query Pinecone index\n",
    "    index = pinecone.Index(\"ESL_resources\")\n",
    "    query_vector = pinecone.vectorize([query])\n",
    "    results = index.query(queries=[query_vector], top_k=5)\n",
    "    \n",
    "    return results\n",
    "\n",
    "# Generate response function using Langchain\n",
    "def generate_response(user_input):\n",
    "    response = retrieval_chain.generate_response(user_input)\n",
    "    return response\n"
   ]
  },
  {
   "cell_type": "code",
   "execution_count": 3,
   "metadata": {},
   "outputs": [
    {
     "name": "stdout",
     "output_type": "stream",
     "text": [
      "Welcome to the ESL Chatbot!\n",
      "How can I help you with your English learning today?\n"
     ]
    },
    {
     "ename": "NameError",
     "evalue": "name 'nlp' is not defined",
     "output_type": "error",
     "traceback": [
      "\u001b[0;31m---------------------------------------------------------------------------\u001b[0m",
      "\u001b[0;31mNameError\u001b[0m                                 Traceback (most recent call last)",
      "Cell \u001b[0;32mIn[3], line 26\u001b[0m\n\u001b[1;32m     23\u001b[0m             \u001b[38;5;28mprint\u001b[39m(\u001b[38;5;124m\"\u001b[39m\u001b[38;5;124m-\u001b[39m\u001b[38;5;124m\"\u001b[39m, doc)\n\u001b[1;32m     25\u001b[0m \u001b[38;5;28;01mif\u001b[39;00m \u001b[38;5;18m__name__\u001b[39m \u001b[38;5;241m==\u001b[39m \u001b[38;5;124m\"\u001b[39m\u001b[38;5;124m__main__\u001b[39m\u001b[38;5;124m\"\u001b[39m:\n\u001b[0;32m---> 26\u001b[0m     \u001b[43mmain\u001b[49m\u001b[43m(\u001b[49m\u001b[43m)\u001b[49m\n",
      "Cell \u001b[0;32mIn[3], line 15\u001b[0m, in \u001b[0;36mmain\u001b[0;34m()\u001b[0m\n\u001b[1;32m     12\u001b[0m     \u001b[38;5;28;01mbreak\u001b[39;00m\n\u001b[1;32m     14\u001b[0m \u001b[38;5;66;03m# Handle conversation\u001b[39;00m\n\u001b[0;32m---> 15\u001b[0m bot_response, relevant_documents \u001b[38;5;241m=\u001b[39m \u001b[43mhandle_conversation\u001b[49m\u001b[43m(\u001b[49m\u001b[43muser_input\u001b[49m\u001b[43m)\u001b[49m\n\u001b[1;32m     17\u001b[0m \u001b[38;5;66;03m# Print bot response\u001b[39;00m\n\u001b[1;32m     18\u001b[0m \u001b[38;5;28mprint\u001b[39m(\u001b[38;5;124m\"\u001b[39m\u001b[38;5;124mESL Chatbot:\u001b[39m\u001b[38;5;124m\"\u001b[39m, bot_response)\n",
      "Cell \u001b[0;32mIn[2], line 4\u001b[0m, in \u001b[0;36mhandle_conversation\u001b[0;34m(user_input)\u001b[0m\n\u001b[1;32m      2\u001b[0m \u001b[38;5;28;01mdef\u001b[39;00m \u001b[38;5;21mhandle_conversation\u001b[39m(user_input):\n\u001b[1;32m      3\u001b[0m     \u001b[38;5;66;03m# Process user input\u001b[39;00m\n\u001b[0;32m----> 4\u001b[0m     user_input_doc \u001b[38;5;241m=\u001b[39m \u001b[43mnlp\u001b[49m(user_input)\n\u001b[1;32m      6\u001b[0m     \u001b[38;5;66;03m# Perform semantic search using Pinecone\u001b[39;00m\n\u001b[1;32m      7\u001b[0m     relevant_documents \u001b[38;5;241m=\u001b[39m semantic_search(user_input)\n",
      "\u001b[0;31mNameError\u001b[0m: name 'nlp' is not defined"
     ]
    }
   ],
   "source": [
    "# Main function to handle user interaction\n",
    "def main():\n",
    "    print(\"Welcome to the ESL Chatbot!\")\n",
    "    print(\"How can I help you with your English learning today?\")\n",
    "    \n",
    "    while True:\n",
    "        user_input = input(\"You: \")\n",
    "        \n",
    "        # Exit if user says \"bye\"\n",
    "        if user_input.lower() == \"bye\":\n",
    "            print(\"ESL Chatbot: Goodbye! Have a great day!\")\n",
    "            break\n",
    "        \n",
    "        # Handle conversation\n",
    "        bot_response, relevant_documents = handle_conversation(user_input)\n",
    "        \n",
    "        # Print bot response\n",
    "        print(\"ESL Chatbot:\", bot_response)\n",
    "        \n",
    "        # Print relevant documents\n",
    "        print(\"Relevant Documents:\")\n",
    "        for doc in relevant_documents:\n",
    "            print(\"-\", doc)\n",
    "    \n",
    "if __name__ == \"__main__\":\n",
    "    main()\n"
   ]
  },
  {
   "cell_type": "code",
   "execution_count": null,
   "metadata": {},
   "outputs": [],
   "source": []
  }
 ],
 "metadata": {
  "kernelspec": {
   "display_name": "base",
   "language": "python",
   "name": "python3"
  },
  "language_info": {
   "codemirror_mode": {
    "name": "ipython",
    "version": 3
   },
   "file_extension": ".py",
   "mimetype": "text/x-python",
   "name": "python",
   "nbconvert_exporter": "python",
   "pygments_lexer": "ipython3",
   "version": "3.9.16"
  }
 },
 "nbformat": 4,
 "nbformat_minor": 2
}
